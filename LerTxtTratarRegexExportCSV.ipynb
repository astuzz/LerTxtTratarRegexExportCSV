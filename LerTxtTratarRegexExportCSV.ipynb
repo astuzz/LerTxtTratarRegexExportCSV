{
 "cells": [
  {
   "cell_type": "markdown",
   "metadata": {},
   "source": [
    "Extração de informações de arquivos TXT via REGEX e armazenando-as num arquivo final CSV\n"
   ]
  },
  {
   "cell_type": "markdown",
   "metadata": {},
   "source": [
    "Libs"
   ]
  },
  {
   "cell_type": "code",
   "execution_count": 13,
   "metadata": {},
   "outputs": [],
   "source": [
    "import pandas as pd\n",
    "import re\n",
    "import glob"
   ]
  },
  {
   "cell_type": "markdown",
   "metadata": {},
   "source": [
    "Origem e variaveis de armazenamento"
   ]
  },
  {
   "cell_type": "code",
   "execution_count": 14,
   "metadata": {},
   "outputs": [],
   "source": [
    "# Arquivos de entrada\n",
    "caminho_arquivos = r\"entrada\\*.txt\"\n",
    "\n",
    "# Listas para armazenar os dados extraídos\n",
    "DataRegistro = []\n",
    "NomeCliente = []\n",
    "IdadeCliente = []"
   ]
  },
  {
   "cell_type": "markdown",
   "metadata": {},
   "source": [
    "Função e Processo de Extração"
   ]
  },
  {
   "cell_type": "code",
   "execution_count": 15,
   "metadata": {},
   "outputs": [],
   "source": [
    "def processar_arquivos(arquivo):\n",
    "    # Lendo o arquivo de texto\n",
    "    with open(arquivo, \"r\", encoding=\"UTF-8\") as arq:\n",
    "        linhas = arq.readlines()\n",
    "\n",
    "        for linha in linhas:\n",
    "            # removendo espaços em branco \n",
    "            linha = linha.strip()            \n",
    "            \n",
    "            # Extraindo data\n",
    "            extrair_data = re.compile(r\"^Data:\\s?(\\d{2}/\\d{2}/\\d{4})\")\n",
    "            data = re.findall(extrair_data, linha)\n",
    "            if data:                \n",
    "                DataRegistro.append(data[0])       \n",
    "\n",
    "            # Extraindo nome\n",
    "            extrair_nome = re.compile(r\"^Nome:\\s?(.+)\\s\")\n",
    "            nome = re.findall(extrair_nome, linha)\n",
    "            if nome:\n",
    "                NomeCliente.append(nome[0])      \n",
    "\n",
    "            # Extraindo idade\n",
    "            extrair_idade = re.compile(r\"Idade:?\\s?(\\d+)\")\n",
    "            idade = re.findall(extrair_idade, linha)\n",
    "            if idade:\n",
    "                IdadeCliente.append(idade[0])      \n",
    "\n",
    "# Glob para encontrar todos os arquivos .txt\n",
    "arquivos = glob.glob(caminho_arquivos)\n",
    "\n",
    "\n",
    "for arquivo in arquivos:\n",
    "    processar_arquivos(arquivo)"
   ]
  },
  {
   "cell_type": "markdown",
   "metadata": {},
   "source": [
    "Saída e Consolidando as Extrações"
   ]
  },
  {
   "cell_type": "code",
   "execution_count": 16,
   "metadata": {},
   "outputs": [],
   "source": [
    "# Criando um DataFrame com os dados extraídos\n",
    "df = pd.DataFrame({\n",
    "    'Data': DataRegistro,\n",
    "    'Nome': NomeCliente,\n",
    "    'Idade': IdadeCliente\n",
    "})\n",
    "\n",
    "# Salvando o DataFrame num CSV\n",
    "saida = r\"saida\\Arquivo_Final.csv\"\n",
    "df.to_csv(saida, index=False)"
   ]
  }
 ],
 "metadata": {
  "kernelspec": {
   "display_name": "Python 3",
   "language": "python",
   "name": "python3"
  },
  "language_info": {
   "codemirror_mode": {
    "name": "ipython",
    "version": 3
   },
   "file_extension": ".py",
   "mimetype": "text/x-python",
   "name": "python",
   "nbconvert_exporter": "python",
   "pygments_lexer": "ipython3",
   "version": "3.13.0"
  }
 },
 "nbformat": 4,
 "nbformat_minor": 2
}
